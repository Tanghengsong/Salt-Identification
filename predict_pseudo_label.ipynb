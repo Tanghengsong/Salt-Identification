{
 "cells": [
  {
   "cell_type": "code",
   "execution_count": 23,
   "metadata": {},
   "outputs": [
    {
     "name": "stdout",
     "output_type": "stream",
     "text": [
      "load finish\n"
     ]
    }
   ],
   "source": [
    "from MyDataset import TGS_Dataset\n",
    "from PSPNet_models.pspnet import Res34Unetv4\n",
    "import os\n",
    "import torch\n",
    "from torch.autograd import Variable\n",
    "import pandas as pd\n",
    "import numpy as np\n",
    "from Evaluation import do_length_decode, do_length_encode\n",
    "import cv2\n",
    "import matplotlib.pyplot as plt\n",
    "import warnings\n",
    "warnings.filterwarnings(\"ignore\")\n",
    "print('load finish')"
   ]
  },
  {
   "cell_type": "code",
   "execution_count": 24,
   "metadata": {},
   "outputs": [
    {
     "name": "stdout",
     "output_type": "stream",
     "text": [
      "1562 empty masks out of 4000 total masks\n",
      "finish\n"
     ]
    }
   ],
   "source": [
    "TRAIN_PATH = './Data/train'\n",
    "train_dataset = TGS_Dataset(TRAIN_PATH)\n",
    "print('finish')"
   ]
  },
  {
   "cell_type": "code",
   "execution_count": 26,
   "metadata": {},
   "outputs": [],
   "source": [
    "def average_fold_prediction(path_list, H=101, W=101, fill_value=255, threshold=0.5):\n",
    "    '''load rle from df, average them and return a new rle'''\n",
    "    folds = []\n",
    "    # decode\n",
    "    for p in path_list:\n",
    "        df = pd.read_csv(p)\n",
    "        im = []\n",
    "        for i in range(len(df)):\n",
    "            im.append(do_length_decode(str(df.rle_mask.iloc[i]), H, W, fill_value))\n",
    "        folds.append(im)\n",
    "    # average\n",
    "    avg = np.mean(folds, axis=0)\n",
    "    avg = avg > threshold\n",
    "    # encode\n",
    "    rle = []\n",
    "    for i in range(len(avg)):\n",
    "        rle.append(do_length_encode(avg[i]))\n",
    "    # create sub\n",
    "    df = pd.DataFrame(dict(id=df.id, rle_mask=rle))\n",
    "    \n",
    "    return df\n",
    "\n",
    "def load_net_and_predict(net, train_path, load_paths, batch_size=32, threshold=0.5, min_size=0):\n",
    "    train_dataset = TGS_Dataset(train_path)\n",
    "    pseudo_loader, pseudo_ids = train_dataset.selfdefine_dataloader_actual(flag=True, num_workers=11, batch_size=batch_size)\n",
    "    # predict\n",
    "    for i in range(len(load_paths)):\n",
    "        net.load_state_dict(torch.load(load_paths[i]))\n",
    "        p = net.predict(pseudo_loader, threshold=threshold, return_rle=False)\n",
    "        if not i:\n",
    "            avg = np.zeros_like(p['pred'])\n",
    "        avg = (i * avg + p['pred']) / (i + 1)\n",
    "    avg = avg > threshold\n",
    "    # encode\n",
    "    rle = []\n",
    "    for i in range(len(avg)):\n",
    "        rle.append(do_length_encode(avg[i]))\n",
    "    # create sub\n",
    "    df = pd.DataFrame(dict(id=p['id'], rle_mask=rle))\n",
    "    \n",
    "    return df\n"
   ]
  },
  {
   "cell_type": "code",
   "execution_count": null,
   "metadata": {},
   "outputs": [
    {
     "name": "stdout",
     "output_type": "stream",
     "text": [
      "1562 empty masks out of 4000 total masks\n"
     ]
    }
   ],
   "source": [
    "if __name__ == '__main__':\n",
    "    TRAIN_PATH = './Data/train'\n",
    "    net = PSPNet()\n",
    "    NET_NAME = type(net).__name__\n",
    "    THRESHOLD = 0.5\n",
    "    MIN_SIZE = 0\n",
    "    BATCH_SIZE = 32\n",
    "    \n",
    "    LOAD_PATHS = [\n",
    "        './Saves/Res34Unetv4/Fold0_Epoch141_Val0.612',\n",
    "        './Saves/Res34Unetv4/Fold1_Epoch150_Val0.578',\n",
    "        './Saves/Res34Unetv4/Fold2_Epoch150_Val0.662',\n",
    "        './Saves/Res34Unetv4/Fold3_Epoch141_Val0.616',\n",
    "        './Saves/Res34Unetv4/Fold4_Epoch150_Val0.589'\n",
    "    ]\n",
    "    \n",
    "    df = load_net_and_predict(net, TRAIN_PATH, LOAD_PATHS, batch_size=BATCH_SIZE, threshold=THRESHOLD, min_size=MIN_SIZE)\n",
    "    df.to_csv(os.path.join('./Saves',NET_NAME,'{}_5foldAvg.csv'.format(NET_NAME)),\n",
    "        index=False)\n",
    "    print('finish')"
   ]
  },
  {
   "cell_type": "code",
   "execution_count": null,
   "metadata": {},
   "outputs": [],
   "source": []
  }
 ],
 "metadata": {
  "kernelspec": {
   "display_name": "Python 3",
   "language": "python",
   "name": "python3"
  },
  "language_info": {
   "codemirror_mode": {
    "name": "ipython",
    "version": 3
   },
   "file_extension": ".py",
   "mimetype": "text/x-python",
   "name": "python",
   "nbconvert_exporter": "python",
   "pygments_lexer": "ipython3",
   "version": "3.7.3"
  }
 },
 "nbformat": 4,
 "nbformat_minor": 4
}
